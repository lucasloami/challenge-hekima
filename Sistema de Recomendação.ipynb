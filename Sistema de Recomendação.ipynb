{
 "cells": [
  {
   "cell_type": "markdown",
   "metadata": {},
   "source": [
    "# Sistema de recomendação de animes\n",
    "\n",
    "Este notebook tem como objetivo a construção de um sistema de recomendação de animes a partir de dois datasets: `animes.csv`, que descreve características de diversos animes e `rating.csv`, que descreve as avaliações que os usuários deram para eles. \n",
    "\n",
    "Neste projeto optou-se por usar a técnica de filtros colaborativos baseados no comportamento dos usuários, pela simplicidade e eficiência da técnica. Essa técnica pode ser interpretada como uma recomendação de animes baseada no que outros usuários semelhantes a você assistiram e gostaram.\n",
    "\n",
    "Este documento é dividido da seguinte forma:\n",
    "\n",
    "1. Coleta e tratamento dos dados\n",
    "2. Análise exploratória\n",
    "3. Preparação dos dados\n",
    "4. Implementação e avaliação dos resultados\n",
    "5. Exemplos de recomendações\n",
    "6. Conclusões\n",
    "7. Referências\n",
    "\n",
    "## Coleta e tratamento dos dados\n",
    "\n",
    "Os dados utilizados no projeto são provenientes do dataset [Anime Recommendations Database](https://www.kaggle.com/CooperUnion/anime-recommendations-database) do Kaggle. Ele é composto por dados referentes a preferência de usuários (73516 usuários) e dados descritivos de animes (12294 animes). "
   ]
  },
  {
   "cell_type": "code",
   "execution_count": 38,
   "metadata": {},
   "outputs": [
    {
     "data": {
      "text/html": [
       "<div>\n",
       "<style>\n",
       "    .dataframe thead tr:only-child th {\n",
       "        text-align: right;\n",
       "    }\n",
       "\n",
       "    .dataframe thead th {\n",
       "        text-align: left;\n",
       "    }\n",
       "\n",
       "    .dataframe tbody tr th {\n",
       "        vertical-align: top;\n",
       "    }\n",
       "</style>\n",
       "<table border=\"1\" class=\"dataframe\">\n",
       "  <thead>\n",
       "    <tr style=\"text-align: right;\">\n",
       "      <th></th>\n",
       "      <th>anime_id</th>\n",
       "      <th>name</th>\n",
       "      <th>genre</th>\n",
       "      <th>type</th>\n",
       "      <th>episodes</th>\n",
       "      <th>rating</th>\n",
       "      <th>members</th>\n",
       "    </tr>\n",
       "  </thead>\n",
       "  <tbody>\n",
       "    <tr>\n",
       "      <th>0</th>\n",
       "      <td>32281</td>\n",
       "      <td>Kimi no Na wa.</td>\n",
       "      <td>Drama, Romance, School, Supernatural</td>\n",
       "      <td>Movie</td>\n",
       "      <td>1.0</td>\n",
       "      <td>9.37</td>\n",
       "      <td>200630</td>\n",
       "    </tr>\n",
       "    <tr>\n",
       "      <th>1</th>\n",
       "      <td>5114</td>\n",
       "      <td>Fullmetal Alchemist: Brotherhood</td>\n",
       "      <td>Action, Adventure, Drama, Fantasy, Magic, Mili...</td>\n",
       "      <td>TV</td>\n",
       "      <td>64.0</td>\n",
       "      <td>9.26</td>\n",
       "      <td>793665</td>\n",
       "    </tr>\n",
       "    <tr>\n",
       "      <th>2</th>\n",
       "      <td>28977</td>\n",
       "      <td>Gintama°</td>\n",
       "      <td>Action, Comedy, Historical, Parody, Samurai, S...</td>\n",
       "      <td>TV</td>\n",
       "      <td>51.0</td>\n",
       "      <td>9.25</td>\n",
       "      <td>114262</td>\n",
       "    </tr>\n",
       "    <tr>\n",
       "      <th>3</th>\n",
       "      <td>9253</td>\n",
       "      <td>Steins;Gate</td>\n",
       "      <td>Sci-Fi, Thriller</td>\n",
       "      <td>TV</td>\n",
       "      <td>24.0</td>\n",
       "      <td>9.17</td>\n",
       "      <td>673572</td>\n",
       "    </tr>\n",
       "    <tr>\n",
       "      <th>4</th>\n",
       "      <td>9969</td>\n",
       "      <td>Gintama&amp;#039;</td>\n",
       "      <td>Action, Comedy, Historical, Parody, Samurai, S...</td>\n",
       "      <td>TV</td>\n",
       "      <td>51.0</td>\n",
       "      <td>9.16</td>\n",
       "      <td>151266</td>\n",
       "    </tr>\n",
       "    <tr>\n",
       "      <th>5</th>\n",
       "      <td>32935</td>\n",
       "      <td>Haikyuu!!: Karasuno Koukou VS Shiratorizawa Ga...</td>\n",
       "      <td>Comedy, Drama, School, Shounen, Sports</td>\n",
       "      <td>TV</td>\n",
       "      <td>10.0</td>\n",
       "      <td>9.15</td>\n",
       "      <td>93351</td>\n",
       "    </tr>\n",
       "    <tr>\n",
       "      <th>6</th>\n",
       "      <td>11061</td>\n",
       "      <td>Hunter x Hunter (2011)</td>\n",
       "      <td>Action, Adventure, Shounen, Super Power</td>\n",
       "      <td>TV</td>\n",
       "      <td>148.0</td>\n",
       "      <td>9.13</td>\n",
       "      <td>425855</td>\n",
       "    </tr>\n",
       "    <tr>\n",
       "      <th>7</th>\n",
       "      <td>820</td>\n",
       "      <td>Ginga Eiyuu Densetsu</td>\n",
       "      <td>Drama, Military, Sci-Fi, Space</td>\n",
       "      <td>OVA</td>\n",
       "      <td>110.0</td>\n",
       "      <td>9.11</td>\n",
       "      <td>80679</td>\n",
       "    </tr>\n",
       "    <tr>\n",
       "      <th>8</th>\n",
       "      <td>15335</td>\n",
       "      <td>Gintama Movie: Kanketsu-hen - Yorozuya yo Eien...</td>\n",
       "      <td>Action, Comedy, Historical, Parody, Samurai, S...</td>\n",
       "      <td>Movie</td>\n",
       "      <td>1.0</td>\n",
       "      <td>9.10</td>\n",
       "      <td>72534</td>\n",
       "    </tr>\n",
       "    <tr>\n",
       "      <th>9</th>\n",
       "      <td>15417</td>\n",
       "      <td>Gintama&amp;#039;: Enchousen</td>\n",
       "      <td>Action, Comedy, Historical, Parody, Samurai, S...</td>\n",
       "      <td>TV</td>\n",
       "      <td>13.0</td>\n",
       "      <td>9.11</td>\n",
       "      <td>81109</td>\n",
       "    </tr>\n",
       "  </tbody>\n",
       "</table>\n",
       "</div>"
      ],
      "text/plain": [
       "   anime_id                                               name  \\\n",
       "0     32281                                     Kimi no Na wa.   \n",
       "1      5114                   Fullmetal Alchemist: Brotherhood   \n",
       "2     28977                                           Gintama°   \n",
       "3      9253                                        Steins;Gate   \n",
       "4      9969                                      Gintama&#039;   \n",
       "5     32935  Haikyuu!!: Karasuno Koukou VS Shiratorizawa Ga...   \n",
       "6     11061                             Hunter x Hunter (2011)   \n",
       "7       820                               Ginga Eiyuu Densetsu   \n",
       "8     15335  Gintama Movie: Kanketsu-hen - Yorozuya yo Eien...   \n",
       "9     15417                           Gintama&#039;: Enchousen   \n",
       "\n",
       "                                               genre   type  episodes  rating  \\\n",
       "0               Drama, Romance, School, Supernatural  Movie       1.0    9.37   \n",
       "1  Action, Adventure, Drama, Fantasy, Magic, Mili...     TV      64.0    9.26   \n",
       "2  Action, Comedy, Historical, Parody, Samurai, S...     TV      51.0    9.25   \n",
       "3                                   Sci-Fi, Thriller     TV      24.0    9.17   \n",
       "4  Action, Comedy, Historical, Parody, Samurai, S...     TV      51.0    9.16   \n",
       "5             Comedy, Drama, School, Shounen, Sports     TV      10.0    9.15   \n",
       "6            Action, Adventure, Shounen, Super Power     TV     148.0    9.13   \n",
       "7                     Drama, Military, Sci-Fi, Space    OVA     110.0    9.11   \n",
       "8  Action, Comedy, Historical, Parody, Samurai, S...  Movie       1.0    9.10   \n",
       "9  Action, Comedy, Historical, Parody, Samurai, S...     TV      13.0    9.11   \n",
       "\n",
       "   members  \n",
       "0   200630  \n",
       "1   793665  \n",
       "2   114262  \n",
       "3   673572  \n",
       "4   151266  \n",
       "5    93351  \n",
       "6   425855  \n",
       "7    80679  \n",
       "8    72534  \n",
       "9    81109  "
      ]
     },
     "execution_count": 38,
     "metadata": {},
     "output_type": "execute_result"
    }
   ],
   "source": [
    "import pandas as pd\n",
    "from collections import defaultdict\n",
    "import matplotlib.pyplot as plt\n",
    "from collections import Counter\n",
    "import os, random\n",
    "from surprise import KNNBasic, Dataset, Reader, accuracy, GridSearch\n",
    "\n",
    "animes_df = pd.read_csv('data/anime.csv', na_values=[\"nan\", \"Unknown\", \"NA\", \"\"])\n",
    "ratings_df = pd.read_csv ('data/rating.csv', na_values=[\"nan\", \"Unknown\", \"NA\", \"\", -1])\n",
    "animes_df.head(10)"
   ]
  },
  {
   "cell_type": "markdown",
   "metadata": {},
   "source": [
    "O dataset de animes é composto pelas seguintes colunas:\n",
    "* anime_id: contém o identificador único de cada anime\n",
    "* name: nome do anime\n",
    "* genre: lista de categorias a qual o anime pertence\n",
    "* type: tipo do título\n",
    "* episodios: quantidade de episódios do anime\n",
    "* rating: média das reviews do anime (escala de 1-10)\n",
    "* members: número de usuários que está no \"grupo\" desse anime"
   ]
  },
  {
   "cell_type": "code",
   "execution_count": 39,
   "metadata": {},
   "outputs": [
    {
     "data": {
      "text/html": [
       "<div>\n",
       "<style>\n",
       "    .dataframe thead tr:only-child th {\n",
       "        text-align: right;\n",
       "    }\n",
       "\n",
       "    .dataframe thead th {\n",
       "        text-align: left;\n",
       "    }\n",
       "\n",
       "    .dataframe tbody tr th {\n",
       "        vertical-align: top;\n",
       "    }\n",
       "</style>\n",
       "<table border=\"1\" class=\"dataframe\">\n",
       "  <thead>\n",
       "    <tr style=\"text-align: right;\">\n",
       "      <th></th>\n",
       "      <th>user_id</th>\n",
       "      <th>anime_id</th>\n",
       "      <th>rating</th>\n",
       "    </tr>\n",
       "  </thead>\n",
       "  <tbody>\n",
       "    <tr>\n",
       "      <th>0</th>\n",
       "      <td>1</td>\n",
       "      <td>20</td>\n",
       "      <td>NaN</td>\n",
       "    </tr>\n",
       "    <tr>\n",
       "      <th>1</th>\n",
       "      <td>1</td>\n",
       "      <td>24</td>\n",
       "      <td>NaN</td>\n",
       "    </tr>\n",
       "    <tr>\n",
       "      <th>2</th>\n",
       "      <td>1</td>\n",
       "      <td>79</td>\n",
       "      <td>NaN</td>\n",
       "    </tr>\n",
       "    <tr>\n",
       "      <th>3</th>\n",
       "      <td>1</td>\n",
       "      <td>226</td>\n",
       "      <td>NaN</td>\n",
       "    </tr>\n",
       "    <tr>\n",
       "      <th>4</th>\n",
       "      <td>1</td>\n",
       "      <td>241</td>\n",
       "      <td>NaN</td>\n",
       "    </tr>\n",
       "  </tbody>\n",
       "</table>\n",
       "</div>"
      ],
      "text/plain": [
       "   user_id  anime_id  rating\n",
       "0        1        20     NaN\n",
       "1        1        24     NaN\n",
       "2        1        79     NaN\n",
       "3        1       226     NaN\n",
       "4        1       241     NaN"
      ]
     },
     "execution_count": 39,
     "metadata": {},
     "output_type": "execute_result"
    }
   ],
   "source": [
    "ratings_df.head()"
   ]
  },
  {
   "cell_type": "markdown",
   "metadata": {},
   "source": [
    "O dataset de ratings é composto pelas seguintes colunas:\n",
    "* user_id: contém o identificador único de cada usuário\n",
    "* anime_id: contém o identificador único de cada anime\n",
    "* rating: contém o valor de rating atribuído por um usuário a um anime. \"NaN\" significa que o usuário assistiu ao anime mas não deu rating ao mesmo\n",
    "\n",
    "## Análise exploratória\n",
    "\n",
    "### 1. Animes\n",
    "\n",
    "Esta seção explora como se comportam as variáveis presentes no dataset `anime.csv`. Em especial avalia-se quais os tipos de anime mais aparecem, como os ratings estão distribuídos e qual a relação existente entre as variáveis numéricas."
   ]
  },
  {
   "cell_type": "code",
   "execution_count": 46,
   "metadata": {},
   "outputs": [
    {
     "data": {
      "image/png": "[encoded data removed]",
      "text/plain": [
       "<matplotlib.figure.Figure at 0x7f916e1fcc90>"
      ]
     },
     "metadata": {},
     "output_type": "display_data"
    },
    {
     "data": {
      "image/png": "[encoded data removed]",
      "text/plain": [
       "<matplotlib.figure.Figure at 0x7f9183773850>"
      ]
     },
     "metadata": {},
     "output_type": "display_data"
    },
    {
     "data": {
      "text/plain": [
       "<matplotlib.figure.Figure at 0x7f9183773f10>"
      ]
     },
     "metadata": {},
     "output_type": "display_data"
    },
    {
     "data": {
      "image/png": "[encoded data removed]",
      "text/plain": [
       "<matplotlib.figure.Figure at 0x7f918255de10>"
      ]
     },
     "metadata": {},
     "output_type": "display_data"
    }
   ],
   "source": [
    "genres_list = []\n",
    "genres_col_list = animes_df.genre.tolist()\n",
    "\n",
    "for item in genres_col_list:\n",
    "  if isinstance(item, basestring):\n",
    "    l = item.split(\",\")\n",
    "    # remove white spaces at the end and beginnin of string\n",
    "    l = map(str.strip, l)\n",
    "    genres_list.extend(l)\n",
    "\n",
    "c = Counter(genres_list)\n",
    "genres_df = pd.DataFrame.from_dict(c, orient='index').rename(columns={'įndex': 'genre', 0:'count'})\n",
    "\n",
    "plt.figure()\n",
    "ax = animes_df.type.value_counts().plot(kind='bar')\n",
    "ax.set_ylabel(\"frequency\")\n",
    "ax.set_xlabel(\"types of animes\")\n",
    "\n",
    "plt.figure()\n",
    "ax = animes_df.rating.plot.hist(alpha=0.5)\n",
    "ax.set_xlabel(\"ratings\")\n",
    "\n",
    "plt.figure()\n",
    "ax = genres_df.plot.bar(alpha=0.5, figsize=(15,5))\n",
    "ax.set_xlabel(\"genres\")\n",
    "ax.set_ylabel(\"frequency\")\n",
    "plt.show()"
   ]
  },
  {
   "cell_type": "markdown",
   "metadata": {},
   "source": [
    "É possível perceber que a maior parte dos animes foi produzida para TV ou no formato OVA. Além disso, os ratings estão distribuídos em um formato que lembra uma curva normal, com uma concentração de valores entre 6 e 8. Existem 43 tipos diferentes de gêneros e, dentre eles, os que mais possuem animes são: Comédia, Ação, Aventura e Fantasia.\n",
    "\n",
    "O gráfico de barras abaixo mostra que os animes do tipo TV possuem muito mais membros em seus grupos na média. "
   ]
  },
  {
   "cell_type": "code",
   "execution_count": 7,
   "metadata": {},
   "outputs": [
    {
     "data": {
      "text/plain": [
       "<matplotlib.figure.Figure at 0x7f2677cc1050>"
      ]
     },
     "metadata": {},
     "output_type": "display_data"
    },
    {
     "data": {
      "image/png": "[encoded data removed]",
      "text/plain": [
       "<matplotlib.figure.Figure at 0x7f2677877910>"
      ]
     },
     "metadata": {},
     "output_type": "display_data"
    }
   ],
   "source": [
    "type_members_df = animes_df[['type', 'members']]\n",
    "type_members_grouped_df = type_members_df.groupby('type').mean()\n",
    "\n",
    "plt.figure()\n",
    "ax = type_members_grouped_df.plot.bar(alpha=0.5)\n",
    "ax.set_xlabel(\"types\")\n",
    "ax.set_ylabel(\"Avg number of members\")\n",
    "plt.show()"
   ]
  },
  {
   "cell_type": "code",
   "execution_count": 57,
   "metadata": {},
   "outputs": [
    {
     "data": {
      "text/plain": [
       "<matplotlib.figure.Figure at 0x7f371d4f1150>"
      ]
     },
     "metadata": {},
     "output_type": "display_data"
    },
    {
     "data": {
      "image/png": "[encoded data removed]",
      "text/plain": [
       "<matplotlib.figure.Figure at 0x7f371d46a590>"
      ]
     },
     "metadata": {},
     "output_type": "display_data"
    }
   ],
   "source": [
    "plt.figure()\n",
    "pd.plotting.scatter_matrix(animes_df[['episodes', 'rating', 'members']], alpha=0.5, figsize=(15, 7), diagonal='kde')\n",
    "plt.show()"
   ]
  },
  {
   "cell_type": "markdown",
   "metadata": {},
   "source": [
    "A partit da _scatter matrix_ acima, perceb-se que:\n",
    "\n",
    "* Os animes com maiores quantidades de episódios tem rating mediano (entre 5 e 7). \n",
    "* Existe uma tendência de crescimento do rating de acordo com o crescimento da quantidade de membros no grupo\n",
    "* Os animes com maior quantidade de episódios parecem tender a ter menos membros em seu grupo\n",
    "\n",
    "### 2. Ratings"
   ]
  },
  {
   "cell_type": "markdown",
   "metadata": {},
   "source": [
    "Cada linha desse dataset representa uma vez em que o usuário X assistiu ao anime Y. Analisando os animes únicos que foram assistidos, percebe-se que o número difere da quantidade de animes disponíveis no dataset do item 1. Ou seja, existem animes que não foram vistos. Abaixo foram listados 5 deles. "
   ]
  },
  {
   "cell_type": "code",
   "execution_count": 13,
   "metadata": {},
   "outputs": [
    {
     "name": "stdout",
     "output_type": "stream",
     "text": [
      "Total number of animes: 12294\n",
      "Number of watched animes: 11200\n"
     ]
    },
    {
     "data": {
      "text/html": [
       "<div>\n",
       "<style>\n",
       "    .dataframe thead tr:only-child th {\n",
       "        text-align: right;\n",
       "    }\n",
       "\n",
       "    .dataframe thead th {\n",
       "        text-align: left;\n",
       "    }\n",
       "\n",
       "    .dataframe tbody tr th {\n",
       "        vertical-align: top;\n",
       "    }\n",
       "</style>\n",
       "<table border=\"1\" class=\"dataframe\">\n",
       "  <thead>\n",
       "    <tr style=\"text-align: right;\">\n",
       "      <th></th>\n",
       "      <th>anime_id</th>\n",
       "      <th>name</th>\n",
       "      <th>genre</th>\n",
       "      <th>type</th>\n",
       "      <th>episodes</th>\n",
       "      <th>rating</th>\n",
       "      <th>members</th>\n",
       "    </tr>\n",
       "  </thead>\n",
       "  <tbody>\n",
       "    <tr>\n",
       "      <th>31</th>\n",
       "      <td>32983</td>\n",
       "      <td>Natsume Yuujinchou Go</td>\n",
       "      <td>Drama, Fantasy, Shoujo, Slice of Life, Superna...</td>\n",
       "      <td>TV</td>\n",
       "      <td>13.0</td>\n",
       "      <td>8.76</td>\n",
       "      <td>38865</td>\n",
       "    </tr>\n",
       "    <tr>\n",
       "      <th>62</th>\n",
       "      <td>32995</td>\n",
       "      <td>Yuri!!! on Ice</td>\n",
       "      <td>Comedy, Sports</td>\n",
       "      <td>TV</td>\n",
       "      <td>12.0</td>\n",
       "      <td>8.61</td>\n",
       "      <td>103178</td>\n",
       "    </tr>\n",
       "    <tr>\n",
       "      <th>74</th>\n",
       "      <td>21</td>\n",
       "      <td>One Piece</td>\n",
       "      <td>Action, Adventure, Comedy, Drama, Fantasy, Sho...</td>\n",
       "      <td>TV</td>\n",
       "      <td>NaN</td>\n",
       "      <td>8.58</td>\n",
       "      <td>504862</td>\n",
       "    </tr>\n",
       "    <tr>\n",
       "      <th>76</th>\n",
       "      <td>31933</td>\n",
       "      <td>JoJo no Kimyou na Bouken: Diamond wa Kudakenai</td>\n",
       "      <td>Action, Adventure, Comedy, Drama, Shounen, Sup...</td>\n",
       "      <td>TV</td>\n",
       "      <td>39.0</td>\n",
       "      <td>8.57</td>\n",
       "      <td>74074</td>\n",
       "    </tr>\n",
       "    <tr>\n",
       "      <th>140</th>\n",
       "      <td>10937</td>\n",
       "      <td>Mobile Suit Gundam: The Origin</td>\n",
       "      <td>Action, Mecha, Military, Sci-Fi, Shounen, Space</td>\n",
       "      <td>OVA</td>\n",
       "      <td>6.0</td>\n",
       "      <td>8.42</td>\n",
       "      <td>15420</td>\n",
       "    </tr>\n",
       "  </tbody>\n",
       "</table>\n",
       "</div>"
      ],
      "text/plain": [
       "     anime_id                                            name  \\\n",
       "31      32983                           Natsume Yuujinchou Go   \n",
       "62      32995                                  Yuri!!! on Ice   \n",
       "74         21                                       One Piece   \n",
       "76      31933  JoJo no Kimyou na Bouken: Diamond wa Kudakenai   \n",
       "140     10937                  Mobile Suit Gundam: The Origin   \n",
       "\n",
       "                                                 genre type  episodes  rating  \\\n",
       "31   Drama, Fantasy, Shoujo, Slice of Life, Superna...   TV      13.0    8.76   \n",
       "62                                      Comedy, Sports   TV      12.0    8.61   \n",
       "74   Action, Adventure, Comedy, Drama, Fantasy, Sho...   TV       NaN    8.58   \n",
       "76   Action, Adventure, Comedy, Drama, Shounen, Sup...   TV      39.0    8.57   \n",
       "140    Action, Mecha, Military, Sci-Fi, Shounen, Space  OVA       6.0    8.42   \n",
       "\n",
       "     members  \n",
       "31     38865  \n",
       "62    103178  \n",
       "74    504862  \n",
       "76     74074  \n",
       "140    15420  "
      ]
     },
     "execution_count": 13,
     "metadata": {},
     "output_type": "execute_result"
    }
   ],
   "source": [
    "animes_watched = ratings_df.anime_id.unique()\n",
    "qtd_animes_watched = len(ratings_df.anime_id.unique())\n",
    "qtd_animes = animes_df.shape[0]\n",
    "\n",
    "print(\"Total number of animes: {}\".format(qtd_animes))\n",
    "print(\"Number of watched animes: {}\".format(qtd_animes_watched))\n",
    "\n",
    "animes_df[~animes_df.anime_id.isin(animes_watched)].head()"
   ]
  },
  {
   "cell_type": "code",
   "execution_count": 9,
   "metadata": {},
   "outputs": [
    {
     "data": {
      "image/png": "[encoded data removed]",
      "text/plain": [
       "<matplotlib.figure.Figure at 0x7f267784d650>"
      ]
     },
     "metadata": {},
     "output_type": "display_data"
    },
    {
     "data": {
      "image/png": "[encoded data removed]",
      "text/plain": [
       "<matplotlib.figure.Figure at 0x7f267784dc90>"
      ]
     },
     "metadata": {},
     "output_type": "display_data"
    }
   ],
   "source": [
    "plt.figure()\n",
    "ax = ratings_df.rating.plot.hist(alpha=0.5)\n",
    "ax.set_xlabel(\"ratings\")\n",
    "\n",
    "plt.figure()\n",
    "ax = ratings_df.anime_id.plot.hist(alpha=0.5)\n",
    "ax.set_xlabel(\"anime_ids\")\n",
    "\n",
    "plt.show()"
   ]
  },
  {
   "cell_type": "markdown",
   "metadata": {},
   "source": [
    "Em relação ao comportamento dos ratings, percebe-se que existe uma concentração das notas entre 7 e 8, intervalo semelhante ao observado no dataset de animes. \n",
    "\n",
    "Já em relação aos animes assistidos, observa-se que aqueles com menor ID são bem mais assistidos do que aqueles com ID maior. Se considerarmos que ID maior representa um anime mais novo ou que foi cadastrado recentemente, esse dado faz sentido, pois os usuários não teriam tido tempo suficiente para assistí-lo. "
   ]
  },
  {
   "cell_type": "markdown",
   "metadata": {},
   "source": [
    "## Preparação dos dados\n",
    "\n",
    "### Filtro colaborativo\n",
    "\n",
    "Este projeto utilizará a biblioteca [Surprise](http://surprise.readthedocs.io) do Python para fazer as recomendações. Ela funciona da seguinte forma: dado um arquivo contendo toda a listagem de usuários, animes e rating, a biblioteca lê esse arquivo, cria a matrix User-Anime-Rating internamente e aplica o método de filtro colaborativo desejado. \n",
    "\n",
    "O uso dessa biblioteca otimiza o tempo de codificação, análise e recomendação deste projeto. O arquivo **script.py** presente neste projeto contém um exemplo de implementação manual de filtros colaborativos baseados em vizinhança.\n",
    "\n",
    "Por razões computacionais, reduziu-se o espaço amostral de usuários para aqueles que possuem ID menor ou igual a 5k. Além disso, removeu-se todas as linhas com `NaN`. Para considerar todo o espaço amostral seria necessário usar plataformas de processamento de dados em larga escala, como o Spark.  \n",
    "\n",
    "Nesta seção faremos o tratamento dos dados de rating e exportaremos um dataset no formato adequado para ser usado no Surprise."
   ]
  },
  {
   "cell_type": "code",
   "execution_count": 47,
   "metadata": {},
   "outputs": [
    {
     "name": "stdout",
     "output_type": "stream",
     "text": [
      "Dataset exported successfully\n"
     ]
    }
   ],
   "source": [
    "# join datasets in order to get anime_name\n",
    "dataset = ratings_df.merge(animes_df, on='anime_id', suffixes=['_user', ''])\n",
    "\n",
    "dataset = dataset[['user_id', 'anime_id', 'rating_user']]\n",
    "\n",
    "# limit number of users evaluated for computing reasons\n",
    "dataset_sub = dataset[dataset.user_id <= 5000]\n",
    "\n",
    "# remove entries in which user did not rate anime\n",
    "dataset_sub = dataset_sub[dataset_sub.rating_user.notnull()]\n",
    "\n",
    "dataset_sub.to_csv(\"data/surprise_data.csv\", index=False, header=False)\n",
    "print(\"Dataset exported successfully\")"
   ]
  },
  {
   "cell_type": "markdown",
   "metadata": {},
   "source": [
    "## Implementação e Avaliação dos resultados\n",
    "\n",
    "O código abaixo mostra a implementação do modelo de recomendação utilizando um algoritmo KNN Básico, no qual podemos configurar quantos usuários semelhantes ao usuário analisado serão considerados para elaborar a recomendação. Foi utilizada a classe GridSearch (semelhante a classe GridSearchCV do scikit-learn) para analisar os melhores parâmetros para o algoritmo. \n",
    "\n",
    "Como métrica de avaliação de desempenho, optou-se pela RMSE, que é bastante utilizada para análise de sistemas de recomendação. "
   ]
  },
  {
   "cell_type": "code",
   "execution_count": 48,
   "metadata": {},
   "outputs": [
    {
     "name": "stdout",
     "output_type": "stream",
     "text": [
      "------------\n",
      "Parameters combination 1 of 3\n",
      "params:  {'sim_options': {'name': 'cosine', 'user_based': True}, 'k': 10}\n",
      "Computing the cosine similarity matrix...\n",
      "Done computing similarity matrix.\n",
      "Computing the cosine similarity matrix...\n",
      "Done computing similarity matrix.\n",
      "------------\n",
      "Mean RMSE: 3.2383\n",
      "------------\n",
      "------------\n",
      "Parameters combination 2 of 3\n",
      "params:  {'sim_options': {'name': 'cosine', 'user_based': True}, 'k': 30}\n",
      "Computing the cosine similarity matrix...\n",
      "Done computing similarity matrix.\n",
      "Computing the cosine similarity matrix...\n",
      "Done computing similarity matrix.\n",
      "------------\n",
      "Mean RMSE: 3.2382\n",
      "------------\n",
      "------------\n",
      "Parameters combination 3 of 3\n",
      "params:  {'sim_options': {'name': 'cosine', 'user_based': True}, 'k': 4701}\n",
      "Computing the cosine similarity matrix...\n",
      "Done computing similarity matrix.\n",
      "Computing the cosine similarity matrix...\n",
      "Done computing similarity matrix.\n",
      "------------\n",
      "Mean RMSE: 3.2382\n",
      "------------\n",
      "Computing the cosine similarity matrix...\n",
      "Done computing similarity matrix.\n",
      "RMSE: 3.2406\n",
      "Unbiased accuracy on B 3.24063368674\n",
      "The best params are: defaultdict(<type 'list'>, {'rmse': {'sim_options': {'name': 'cosine', 'user_based': True}, 'k': 30}})\n",
      "The best estimator has error: defaultdict(<type 'list'>, {'rmse': 3.2381774529672684})\n"
     ]
    }
   ],
   "source": [
    "# path to dataset file\n",
    "file_path = os.path.expanduser('data/surprise_data.csv')\n",
    "num_of_users = len(dataset_sub.user_id.unique())\n",
    "\n",
    "# As we're loading a custom dataset, we need to define a reader. In the\n",
    "# movielens-100k dataset, each line has the following format:\n",
    "# 'user item rating timestamp', separated by '\\t' characters.\n",
    "reader = Reader(line_format='user item rating', sep=',')\n",
    "\n",
    "data = Dataset.load_from_file(file_path, reader=reader)\n",
    "\n",
    "raw_ratings = data.raw_ratings\n",
    "\n",
    "# shuffle data\n",
    "random.seed(10)\n",
    "random.shuffle(raw_ratings)\n",
    "\n",
    "# Train = 75% of the data, Test = 25% of the data\n",
    "threshold = int(.75 * len(raw_ratings))\n",
    "train_raw_ratings = raw_ratings[:threshold]\n",
    "test_raw_ratings = raw_ratings[threshold:]\n",
    "\n",
    "# prepare train data\n",
    "data.raw_ratings = train_raw_ratings  \n",
    "data.split(n_folds=2)\n",
    "\n",
    "# Select the best estimator with grid search.\n",
    "param_grid = {'sim_options': [{'name': 'cosine', 'user_based': True }], 'k': [10, 30, num_of_users]}\n",
    "grid_search = GridSearch(KNNBasic, param_grid, measures=['RMSE'], verbose=1)\n",
    "grid_search.evaluate(data)\n",
    "\n",
    "estimator = grid_search.best_estimator['RMSE']\n",
    "\n",
    "# create trainingset\n",
    "trainset = data.build_full_trainset()\n",
    "# train the model\n",
    "estimator.train(trainset)\n",
    "\n",
    "# Compute unbiased accuracy on Test\n",
    "testset = data.construct_testset(test_raw_ratings) \n",
    "predictions = estimator.test(testset)\n",
    "print('Unbiased accuracy on B {}'.format(accuracy.rmse(predictions)))\n",
    "\n",
    "\n",
    "print(\"The best params are: {}\".format(grid_search.best_params))\n",
    "print(\"The best estimator has error: {}\".format(grid_search.best_score))"
   ]
  },
  {
   "cell_type": "markdown",
   "metadata": {},
   "source": [
    "A partir dos dados acima, é possível identificar que o melhor valor de **k** para o KNNBasic é 30. Isso significa que o sistema não precisa considerar o comportamento de todos o usuários para recomendar corretamente animes, fazendo com que o esforço computacional para calcular as recomendações seja menor. \n",
    "\n",
    "## Exemplos de recomendação\n",
    "\n",
    "O melhor modelo criado na seção anterior será utilizado nesta para gerar recomendações para alguns usuários. As recomendações não foram organizadas por ordem de relevância. "
   ]
  },
  {
   "cell_type": "code",
   "execution_count": 65,
   "metadata": {},
   "outputs": [],
   "source": [
    "def get_top_n(predictions, n=10):\n",
    "    '''Return the top-N recommendation for each user from a set of predictions.\n",
    "\n",
    "    Args:\n",
    "        predictions(list of Prediction objects): The list of predictions, as\n",
    "            returned by the test method of an algorithm.\n",
    "        n(int): The number of recommendation to output for each user. Default\n",
    "            is 10.\n",
    "\n",
    "    Returns:\n",
    "    A dict where keys are user (raw) ids and values are lists of tuples:\n",
    "        [(raw item id, rating estimation), ...] of size n.\n",
    "    '''\n",
    "\n",
    "    # First map the predictions to each user.\n",
    "    top_n = defaultdict(list)\n",
    "    for uid, iid, true_r, est, _ in predictions:\n",
    "        top_n[uid].append((iid, est))\n",
    "\n",
    "    # Then sort the predictions for each user and retrieve the k highest ones.\n",
    "    for uid, user_ratings in top_n.items():\n",
    "        user_ratings.sort(key=lambda x: x[1], reverse=True)\n",
    "        top_n[uid] = user_ratings[:n]\n",
    "\n",
    "    return top_n\n",
    "\n",
    "top_n = get_top_n(predictions, n=5)\n",
    "\n",
    "# get some users\n",
    "users_example = {key:value for key,value in top_n.items()[0:2]}\n",
    "anime_recs = []\n",
    "uids = []\n",
    "# Print the recommended items for each user\n",
    "for uid, user_ratings in users_example.items():\n",
    "    items = [iid for (iid, _) in user_ratings]\n",
    "    uids.append(uid)\n",
    "    anime_recs.append(animes_df[animes_df.anime_id.isin(items)])"
   ]
  },
  {
   "cell_type": "code",
   "execution_count": 66,
   "metadata": {},
   "outputs": [
    {
     "name": "stdout",
     "output_type": "stream",
     "text": [
      "Recommendations for user 2031\n"
     ]
    },
    {
     "data": {
      "text/html": [
       "<div>\n",
       "<style>\n",
       "    .dataframe thead tr:only-child th {\n",
       "        text-align: right;\n",
       "    }\n",
       "\n",
       "    .dataframe thead th {\n",
       "        text-align: left;\n",
       "    }\n",
       "\n",
       "    .dataframe tbody tr th {\n",
       "        vertical-align: top;\n",
       "    }\n",
       "</style>\n",
       "<table border=\"1\" class=\"dataframe\">\n",
       "  <thead>\n",
       "    <tr style=\"text-align: right;\">\n",
       "      <th></th>\n",
       "      <th>anime_id</th>\n",
       "      <th>name</th>\n",
       "    </tr>\n",
       "  </thead>\n",
       "  <tbody>\n",
       "    <tr>\n",
       "      <th>57</th>\n",
       "      <td>9989</td>\n",
       "      <td>Ano Hi Mita Hana no Namae wo Bokutachi wa Mada...</td>\n",
       "    </tr>\n",
       "    <tr>\n",
       "      <th>214</th>\n",
       "      <td>6</td>\n",
       "      <td>Trigun</td>\n",
       "    </tr>\n",
       "    <tr>\n",
       "      <th>217</th>\n",
       "      <td>11977</td>\n",
       "      <td>Mahou Shoujo Madoka★Magica Movie 1: Hajimari n...</td>\n",
       "    </tr>\n",
       "    <tr>\n",
       "      <th>358</th>\n",
       "      <td>47</td>\n",
       "      <td>Akira</td>\n",
       "    </tr>\n",
       "    <tr>\n",
       "      <th>644</th>\n",
       "      <td>1818</td>\n",
       "      <td>Claymore</td>\n",
       "    </tr>\n",
       "  </tbody>\n",
       "</table>\n",
       "</div>"
      ],
      "text/plain": [
       "     anime_id                                               name\n",
       "57       9989  Ano Hi Mita Hana no Namae wo Bokutachi wa Mada...\n",
       "214         6                                             Trigun\n",
       "217     11977  Mahou Shoujo Madoka★Magica Movie 1: Hajimari n...\n",
       "358        47                                              Akira\n",
       "644      1818                                           Claymore"
      ]
     },
     "execution_count": 66,
     "metadata": {},
     "output_type": "execute_result"
    }
   ],
   "source": [
    "print(\"Recommendations for user {}\".format(uids[0]))\n",
    "anime_recs[0][['anime_id', 'name']]"
   ]
  },
  {
   "cell_type": "raw",
   "metadata": {},
   "source": []
  },
  {
   "cell_type": "code",
   "execution_count": 67,
   "metadata": {},
   "outputs": [
    {
     "name": "stdout",
     "output_type": "stream",
     "text": [
      "Recommendations for user 1867\n"
     ]
    },
    {
     "data": {
      "text/html": [
       "<div>\n",
       "<style>\n",
       "    .dataframe thead tr:only-child th {\n",
       "        text-align: right;\n",
       "    }\n",
       "\n",
       "    .dataframe thead th {\n",
       "        text-align: left;\n",
       "    }\n",
       "\n",
       "    .dataframe tbody tr th {\n",
       "        vertical-align: top;\n",
       "    }\n",
       "</style>\n",
       "<table border=\"1\" class=\"dataframe\">\n",
       "  <thead>\n",
       "    <tr style=\"text-align: right;\">\n",
       "      <th></th>\n",
       "      <th>anime_id</th>\n",
       "      <th>name</th>\n",
       "    </tr>\n",
       "  </thead>\n",
       "  <tbody>\n",
       "    <tr>\n",
       "      <th>36</th>\n",
       "      <td>11741</td>\n",
       "      <td>Fate/Zero 2nd Season</td>\n",
       "    </tr>\n",
       "    <tr>\n",
       "      <th>643</th>\n",
       "      <td>9919</td>\n",
       "      <td>Ao no Exorcist</td>\n",
       "    </tr>\n",
       "    <tr>\n",
       "      <th>724</th>\n",
       "      <td>15451</td>\n",
       "      <td>High School DxD New</td>\n",
       "    </tr>\n",
       "    <tr>\n",
       "      <th>937</th>\n",
       "      <td>20785</td>\n",
       "      <td>Mahouka Koukou no Rettousei</td>\n",
       "    </tr>\n",
       "    <tr>\n",
       "      <th>1130</th>\n",
       "      <td>22729</td>\n",
       "      <td>Aldnoah.Zero</td>\n",
       "    </tr>\n",
       "  </tbody>\n",
       "</table>\n",
       "</div>"
      ],
      "text/plain": [
       "      anime_id                         name\n",
       "36       11741         Fate/Zero 2nd Season\n",
       "643       9919               Ao no Exorcist\n",
       "724      15451          High School DxD New\n",
       "937      20785  Mahouka Koukou no Rettousei\n",
       "1130     22729                 Aldnoah.Zero"
      ]
     },
     "execution_count": 67,
     "metadata": {},
     "output_type": "execute_result"
    }
   ],
   "source": [
    "print(\"Recommendations for user {}\".format(uids[1]))\n",
    "anime_recs[1][['anime_id', 'name']]"
   ]
  },
  {
   "cell_type": "markdown",
   "metadata": {},
   "source": [
    "## Conclusões\n",
    "\n",
    "Neste projeto foi implementado um sistema de recomendação de animes baseado no dataset do Kaggle. Utilizou-se a biblioteca Pandas para exploração, tratamento dos dados e preparação dos dados. Para implementação do modelo foi usada a biblioteca Surprise, pois ela é especializada em sistemas de recomendação, contendo métodos para avaliação, cross validation e gridsearch nos modelos. Ela otimizou o tempo de criação deste relatório. \n",
    "\n",
    "Foram também apresentados exemplos de recomendação baseadas nos usuários. Foram geradas recomendações para os usuários com IDs=[2031, 1867]. \n",
    "\n",
    "Para trabalhos futuros, vislumbram-se as seguintes possibilidades:\n",
    "\n",
    "* **Combinar o resultado do filtro colaborativo com recomendações baseadas em conteúdo**: um dos problemas que o filtro colaborativo tem é o _cold start_, pois o sistema não sabe o que recomendar para um novo usuário, uma vez que ele não tem histórico prévio. As recomendações baseadas em conteúdo supririam essa demanda\n",
    "* **Testar outros algoritmos**: os filtros colaborativos podem ser divididos em _neighborhood-based approach_ e _model based approach_. Neste projeto utilizamos a primeira das abordagens. Em trabalhos futuros podem ser testados diferentes modelos, tal como o SVD. \n",
    "\n",
    "\n",
    "## Referências\n",
    "\n",
    "[1] WIT, Joost de. Evaluating Recommender Systems: An evaluation framework to predict user satisfaction for recom- mender systems in an electronic programme guide context. 2008. Disponível em: <http://essay.utwente.nl/59711/1/MA_thesis_J_de_Wit.pdf>\n",
    "\n",
    "[2]  SHANI, Guy; GUNAWARDANA, Asela. Evaluating Recommender Systems. TechReport. Disponível em: <https://www.microsoft.com/en-us/research/wp-content/uploads/2016/02/EvaluationMetrics.TR_.pdf>\n",
    "\n",
    "[3] AIN, Aarshay. Quick Guide to Build a Recommendation Engine in Python. 2016. Blog Post. Disponível em: <https://www.analyticsvidhya.com/blog/2016/06/quick-guide-build-recommendation-engine-python/>\n",
    "\n",
    "[4] KUMAR , Suresh. Building Recommendation Engines. 1. ed. [S.l.]: Packt, 2016. 372 p.\n",
    "\n",
    "[5] JOHANNSDOTTIR, Agnes. Implementing your own recommender systems in Python. Disponível em: <https://cambridgespark.com/content/tutorials/implementing-your-own-recommender-systems-in-Python/index.html>. Acesso em: 11 set. 2017\n",
    "\n",
    "[6] ROSENTHAL, Ethan. Intro to Recommender Systems: Collaborative Filtering. Disponível em: <http://blog.ethanrosenthal.com/2015/11/02/intro-to-collaborative-filtering/>. Acesso em: 11 set. 2017"
   ]
  }
 ],
 "metadata": {
  "kernelspec": {
   "display_name": "Python 2",
   "language": "python",
   "name": "python2"
  },
  "language_info": {
   "codemirror_mode": {
    "name": "ipython",
    "version": 2
   },
   "file_extension": ".py",
   "mimetype": "text/x-python",
   "name": "python",
   "nbconvert_exporter": "python",
   "pygments_lexer": "ipython2",
   "version": "2.7.12"
  }
 },
 "nbformat": 4,
 "nbformat_minor": 2
}
